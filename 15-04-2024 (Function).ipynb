{
 "cells": [
  {
   "cell_type": "markdown",
   "id": "407b3cc2-be88-42a9-b532-acdcf8612e2f",
   "metadata": {},
   "source": [
    "## ***Function***\n",
    "---\n",
    "---\n",
    "+ A function is a block of code which only runs when it is called\n",
    "+ Function is a process that realizes an input and an output\n",
    "+ In Python, functions are also a way to organize code with the final goal of the code being reusable.\n",
    "+ Preferably, functions have only one specific but reusable use\n",
    "+ Common functions are provided by python, but we can define our own functions"
   ]
  },
  {
   "cell_type": "markdown",
   "id": "235c956f-c974-4b3c-af90-fc3ca545d69a",
   "metadata": {},
   "source": [
    "##### Defining Functions\r\n",
    "---\n",
    "+ Functions are defined by the keyword \"def\" followed by the name of the function and its parameters in brackets \"()\"\r\n",
    "+ Optionally, can add a docstring - a documentation string that explains the context of the function\r\n",
    "+ The code block in each function starts with a colon \" : \" and uses indentation\r\n",
    "+ Functions can also be made to not return output with return Nonetions"
   ]
  },
  {
   "cell_type": "code",
   "execution_count": 1,
   "id": "a0dfa925-f9a9-4a44-8f3c-5e1720bd3bbb",
   "metadata": {},
   "outputs": [],
   "source": [
    "def pangkat(x):\n",
    "    kuadrat = x**2 #fungsi pangkat dua\n",
    "    return kuadrat"
   ]
  },
  {
   "cell_type": "code",
   "execution_count": 2,
   "id": "2abcf85a-5ae8-4664-aa77-2634715bdc6f",
   "metadata": {},
   "outputs": [
    {
     "data": {
      "text/plain": [
       "9"
      ]
     },
     "execution_count": 2,
     "metadata": {},
     "output_type": "execute_result"
    }
   ],
   "source": [
    "pangkat(3)"
   ]
  },
  {
   "cell_type": "code",
   "execution_count": 3,
   "id": "dd6570ee-6b97-466d-9046-7de595eb5cbd",
   "metadata": {},
   "outputs": [
    {
     "data": {
      "text/plain": [
       "25"
      ]
     },
     "execution_count": 3,
     "metadata": {},
     "output_type": "execute_result"
    }
   ],
   "source": [
    "pangkat (5)"
   ]
  },
  {
   "cell_type": "code",
   "execution_count": 4,
   "id": "a7ff2091-64f8-4ebc-9b74-207691badb6f",
   "metadata": {},
   "outputs": [],
   "source": [
    "def pangkat_tiga(x):\n",
    "    kubik = x**3 #fungsi pangkat tiga\n",
    "    print(kubik)"
   ]
  },
  {
   "cell_type": "code",
   "execution_count": 5,
   "id": "3f08d11d-cadd-48c8-91ab-ee0dd155b92b",
   "metadata": {},
   "outputs": [
    {
     "name": "stdout",
     "output_type": "stream",
     "text": [
      "8\n"
     ]
    }
   ],
   "source": [
    "pangkat_tiga(2)"
   ]
  },
  {
   "cell_type": "markdown",
   "id": "03312bf6-1b28-4c8d-9ac3-2991abdc8fd6",
   "metadata": {},
   "source": [
    "##### Task\n",
    "---"
   ]
  },
  {
   "cell_type": "code",
   "execution_count": 6,
   "id": "374b6881-a241-47b1-b78b-420a4a175611",
   "metadata": {},
   "outputs": [],
   "source": [
    "def celsius_to_fahrenheit(celsius):\n",
    "    fahrenheit = (celsius *9/5) + 32\n",
    "    return fahrenheit"
   ]
  },
  {
   "cell_type": "code",
   "execution_count": 7,
   "id": "2d814c39-cbd1-4443-a218-49bd95e7e947",
   "metadata": {},
   "outputs": [
    {
     "data": {
      "text/plain": [
       "302.0"
      ]
     },
     "execution_count": 7,
     "metadata": {},
     "output_type": "execute_result"
    }
   ],
   "source": [
    "celsius_to_fahrenheit(150)"
   ]
  },
  {
   "cell_type": "code",
   "execution_count": 8,
   "id": "f2770f80-fd86-4a70-bff6-58b4f1778447",
   "metadata": {},
   "outputs": [],
   "source": [
    "def factorial(n):\n",
    "    result = 1\n",
    "    for i in range(1, n+1):\n",
    "        result *= i\n",
    "    return result"
   ]
  },
  {
   "cell_type": "code",
   "execution_count": 9,
   "id": "0ccd8ca3-c33e-419c-ac87-f7ecb0c819f5",
   "metadata": {},
   "outputs": [
    {
     "data": {
      "text/plain": [
       "24"
      ]
     },
     "execution_count": 9,
     "metadata": {},
     "output_type": "execute_result"
    }
   ],
   "source": [
    "factorial(4)"
   ]
  },
  {
   "cell_type": "markdown",
   "id": "4ec0ef9b-97db-4e0a-b48d-f9976e0fda74",
   "metadata": {},
   "source": [
    "By default, Python will position each parameter according to the order in which they were registered when they were defined and must be called according to the order of the variables"
   ]
  },
  {
   "cell_type": "code",
   "execution_count": 10,
   "id": "a3fe84d6-1d83-4f4d-a139-36c2e6f61589",
   "metadata": {},
   "outputs": [],
   "source": [
    "def nama(x):\n",
    "    halo = \"Hai {}\".format(x)\n",
    "    return halo"
   ]
  },
  {
   "cell_type": "code",
   "execution_count": 11,
   "id": "22376676-f6d8-47f1-aaf1-02a3dbfb7c29",
   "metadata": {},
   "outputs": [
    {
     "data": {
      "text/plain": [
       "'Hai Alifia'"
      ]
     },
     "execution_count": 11,
     "metadata": {},
     "output_type": "execute_result"
    }
   ],
   "source": [
    "nama (\"Alifia\")"
   ]
  },
  {
   "cell_type": "markdown",
   "id": "a0107d54-c349-423d-a951-a4eb5e920861",
   "metadata": {},
   "source": [
    "#### Return\n",
    "---\n",
    "The return (expression) statement will make program execution exit the current function, while returning a certain value"
   ]
  },
  {
   "cell_type": "code",
   "execution_count": 12,
   "id": "06eae851-4fdf-40c3-8df6-b97c519cf41e",
   "metadata": {},
   "outputs": [],
   "source": [
    "def tambah(a, b):\n",
    "    plus = a + b\n",
    "    print(\"Hasil penjumlahan adalah {}\".format(plus))\n",
    "    return plus"
   ]
  },
  {
   "cell_type": "code",
   "execution_count": 13,
   "id": "1462ab40-eef0-4bb8-9144-ad2e6866fc1f",
   "metadata": {},
   "outputs": [
    {
     "name": "stdout",
     "output_type": "stream",
     "text": [
      "Hasil penjumlahan adalah 15\n"
     ]
    },
    {
     "data": {
      "text/plain": [
       "15"
      ]
     },
     "execution_count": 13,
     "metadata": {},
     "output_type": "execute_result"
    }
   ],
   "source": [
    "tambah(8,7)"
   ]
  },
  {
   "cell_type": "code",
   "execution_count": 14,
   "id": "13378926-c552-43c6-acc2-0da21305319d",
   "metadata": {},
   "outputs": [
    {
     "name": "stdout",
     "output_type": "stream",
     "text": [
      "Hasil penjumlahan adalah 4\n",
      "hasil dari return adalah 4\n"
     ]
    }
   ],
   "source": [
    "output = tambah(1,3)\n",
    "print(\"hasil dari return adalah {}\".format(output))"
   ]
  },
  {
   "cell_type": "markdown",
   "id": "8befe96b-1f02-4c30-b23c-a760d1310aef",
   "metadata": {},
   "source": [
    "+ The return value of a function can be stored in a variable\r\n",
    "+ This differentiates a function that returns a value from a function that does not return a value (often referred to as a procedure)"
   ]
  },
  {
   "cell_type": "code",
   "execution_count": 15,
   "id": "bb54f0d9-0a5d-415d-90b8-a632ee6e3f77",
   "metadata": {},
   "outputs": [],
   "source": [
    "def operasi_hitung(x,y):\n",
    "    tambah = x + y\n",
    "    kali = x * y\n",
    "    bagi = x / y\n",
    "    return bagi"
   ]
  },
  {
   "cell_type": "code",
   "execution_count": 16,
   "id": "be754ab3-1767-4d89-bf29-2b2298273679",
   "metadata": {},
   "outputs": [
    {
     "data": {
      "text/plain": [
       "3.0"
      ]
     },
     "execution_count": 16,
     "metadata": {},
     "output_type": "execute_result"
    }
   ],
   "source": [
    "operasi_hitung(9,3)"
   ]
  },
  {
   "cell_type": "code",
   "execution_count": 17,
   "id": "c6977536-b85f-4e15-8053-b35ab9a7062f",
   "metadata": {},
   "outputs": [
    {
     "name": "stdout",
     "output_type": "stream",
     "text": [
      "hasil adalah 3.0\n"
     ]
    }
   ],
   "source": [
    "output_tambah = operasi_hitung(9,3)\n",
    "print(\"hasil adalah {}\".format(output_tambah))"
   ]
  },
  {
   "cell_type": "markdown",
   "id": "84a8053b-b2d3-48c9-9299-2ecbbc9d6ac2",
   "metadata": {},
   "source": [
    "##### Task\n",
    "---"
   ]
  },
  {
   "cell_type": "code",
   "execution_count": 18,
   "id": "b70b0d07-1e1e-40f2-9062-f59129b2bbf6",
   "metadata": {},
   "outputs": [],
   "source": [
    "def celcius_convert(temperature):\n",
    "    fahrenheit = (temperature * 9/5) + 32 #convert from celcius to fahrenheit\n",
    "    celcius = (temperature - 32) * 5/9 #convert from fahrenheit to celcius\n",
    "    kelvin = temperature + 273.15 #convert from celcius to kelvin\n",
    "    return kelvin"
   ]
  },
  {
   "cell_type": "code",
   "execution_count": 19,
   "id": "68ce1b01-0fdc-4076-89ab-06377356cd2c",
   "metadata": {},
   "outputs": [
    {
     "data": {
      "text/plain": [
       "298.15"
      ]
     },
     "execution_count": 19,
     "metadata": {},
     "output_type": "execute_result"
    }
   ],
   "source": [
    "celcius_convert(25)"
   ]
  },
  {
   "cell_type": "code",
   "execution_count": 20,
   "id": "cc17a90a-1911-4910-a1cb-b23a68f4bb75",
   "metadata": {},
   "outputs": [],
   "source": [
    "def segitiga_siku (x, y, z): #(x=alas, y=tinggi, z=miring)\n",
    "    luas = 0.5 * x * y\n",
    "    keliling = x + y + z\n",
    "    return luas"
   ]
  },
  {
   "cell_type": "code",
   "execution_count": 21,
   "id": "ebae16dd-f89e-4570-a399-39b9f06e8e28",
   "metadata": {},
   "outputs": [],
   "source": [
    "x = 5\n",
    "y = 8\n",
    "z = 9"
   ]
  },
  {
   "cell_type": "code",
   "execution_count": 22,
   "id": "f3e85857-9f5d-4193-86fc-0bdd46d66e6c",
   "metadata": {},
   "outputs": [
    {
     "name": "stdout",
     "output_type": "stream",
     "text": [
      "luas segitiga: 20.0\n"
     ]
    }
   ],
   "source": [
    "print(\"luas segitiga:\", segitiga_siku (x, y, z))"
   ]
  },
  {
   "cell_type": "code",
   "execution_count": 23,
   "id": "7e69e5d3-2187-450f-8e50-9596c1e22597",
   "metadata": {},
   "outputs": [],
   "source": [
    "def pangkat(z):\n",
    "    pangkat_empat = z**4\n",
    "    return pangkat_empat"
   ]
  },
  {
   "cell_type": "code",
   "execution_count": 24,
   "id": "c6086c27-8326-480c-93f3-653fd826c2e5",
   "metadata": {},
   "outputs": [
    {
     "data": {
      "text/plain": [
       "625"
      ]
     },
     "execution_count": 24,
     "metadata": {},
     "output_type": "execute_result"
    }
   ],
   "source": [
    "pangkat(5)"
   ]
  },
  {
   "cell_type": "code",
   "execution_count": 26,
   "id": "7b1f5189-c582-40d2-9a1e-ead724ebbdff",
   "metadata": {},
   "outputs": [
    {
     "name": "stdin",
     "output_type": "stream",
     "text": [
      " 9\n"
     ]
    },
    {
     "name": "stdout",
     "output_type": "stream",
     "text": [
      "hasilnya adalah 6561\n"
     ]
    }
   ],
   "source": [
    "angka = int(input().strip())\n",
    "hasil = pangkat(angka)\n",
    "print(\"hasilnya adalah {}\".format(hasil))"
   ]
  },
  {
   "cell_type": "code",
   "execution_count": 27,
   "id": "f3d1cbcd-a036-485a-84e1-40952055d879",
   "metadata": {},
   "outputs": [
    {
     "name": "stdout",
     "output_type": "stream",
     "text": [
      "Hasil pangkat empat dari 9 adalah 6561\n"
     ]
    }
   ],
   "source": [
    "print(\"Hasil pangkat empat dari {} adalah {}\".format(angka,hasil))"
   ]
  },
  {
   "cell_type": "markdown",
   "id": "d76768a1-11f9-49ed-869c-8ad583de1764",
   "metadata": {},
   "source": [
    "##### Task\n",
    "---"
   ]
  },
  {
   "cell_type": "code",
   "execution_count": 39,
   "id": "bac58272-5be5-4560-b97c-288d57ed61a8",
   "metadata": {},
   "outputs": [],
   "source": [
    "def power_3(x):\n",
    "    cube = x ** 3\n",
    "    return cube"
   ]
  },
  {
   "cell_type": "code",
   "execution_count": 40,
   "id": "52e02f80-7a01-4c92-b9b8-85a9197d24b8",
   "metadata": {},
   "outputs": [
    {
     "data": {
      "text/plain": [
       "64"
      ]
     },
     "execution_count": 40,
     "metadata": {},
     "output_type": "execute_result"
    }
   ],
   "source": [
    "power_3(4)"
   ]
  },
  {
   "cell_type": "code",
   "execution_count": 41,
   "id": "3b998c72-6080-4b00-a347-e6ca105495fd",
   "metadata": {},
   "outputs": [
    {
     "name": "stdin",
     "output_type": "stream",
     "text": [
      " 5\n"
     ]
    },
    {
     "name": "stdout",
     "output_type": "stream",
     "text": [
      "Result is 125\n"
     ]
    }
   ],
   "source": [
    "number = int(input().strip())\n",
    "result = power_3(number)\n",
    "print(\"Result is {}\".format(result))"
   ]
  },
  {
   "cell_type": "markdown",
   "id": "c2e44d1c-15db-4325-8db7-95edbb767aac",
   "metadata": {},
   "source": [
    "#### Pass by Reference vs Value\n",
    "---\n",
    "All parameters (arguments) in Python are \"passed by reference\" which means that when we change a variable, the data that references it will also change either within the function or outside the function. Unless performing an assignment operation that will change the reference parameter"
   ]
  },
  {
   "cell_type": "code",
   "execution_count": 42,
   "id": "4b839cf7-8ae2-4a8c-8873-5fe005ffc9ce",
   "metadata": {},
   "outputs": [],
   "source": [
    "def rubah(daftar_list):\n",
    "    daftar_list.append([3,4])\n",
    "    print(\"Nilai dalam fungsi adalah {}\".format(daftar_list))"
   ]
  },
  {
   "cell_type": "code",
   "execution_count": 43,
   "id": "822c159f-8304-414e-b8c7-d04aac5a79cf",
   "metadata": {},
   "outputs": [
    {
     "name": "stdout",
     "output_type": "stream",
     "text": [
      "Nilai dalam fungsi adalah [10, [3, 4]]\n"
     ]
    }
   ],
   "source": [
    "rubah([10])"
   ]
  },
  {
   "cell_type": "code",
   "execution_count": 44,
   "id": "8d458e98-b787-4af4-b8d9-661f876235cc",
   "metadata": {},
   "outputs": [
    {
     "name": "stdout",
     "output_type": "stream",
     "text": [
      "Nilai dalam fungsi adalah [12, [3, 4]]\n"
     ]
    }
   ],
   "source": [
    "rubah([12])"
   ]
  },
  {
   "cell_type": "code",
   "execution_count": 45,
   "id": "eb3df549-d16a-4f5f-aa6d-05bafc6d83d7",
   "metadata": {},
   "outputs": [],
   "source": [
    "def rubah(daftar_list):\n",
    "    daftar_list.append([3,4])\n",
    "    print(\"Nilai dalam fungsi adalah {}\".format(daftar_list))"
   ]
  },
  {
   "cell_type": "code",
   "execution_count": 46,
   "id": "8c911158-97e7-4d0b-8ca3-3d6af13cbd8c",
   "metadata": {},
   "outputs": [
    {
     "name": "stdout",
     "output_type": "stream",
     "text": [
      "Nilai dalam fungsi adalah [10, [3, 4]]\n",
      "Nilai di luar fungsi adalah [10, [3, 4]]\n"
     ]
    }
   ],
   "source": [
    "daftar_list = [10]\n",
    "rubah(daftar_list)\n",
    "print(\"Nilai di luar fungsi adalah {}\".format(daftar_list))"
   ]
  },
  {
   "cell_type": "markdown",
   "id": "b91bb8fc-e335-4245-bb6e-5e03127c7502",
   "metadata": {},
   "source": [
    "##### Task\n",
    "---"
   ]
  },
  {
   "cell_type": "code",
   "execution_count": 47,
   "id": "2a577cd5-d8af-4422-9fcb-84baf0979130",
   "metadata": {},
   "outputs": [],
   "source": [
    "def rubah(daftar):\n",
    "    daftar.append([7,9])\n",
    "    print(\"Values in the function is {}\".format(daftar))"
   ]
  },
  {
   "cell_type": "code",
   "execution_count": 48,
   "id": "1b00b20f-b570-4a63-9944-2b8376cf0d4e",
   "metadata": {},
   "outputs": [
    {
     "name": "stdout",
     "output_type": "stream",
     "text": [
      "Values in the function is [2, [7, 9]]\n"
     ]
    }
   ],
   "source": [
    "rubah([2])"
   ]
  },
  {
   "cell_type": "code",
   "execution_count": 49,
   "id": "cfd6fd8e-ab9e-4ba3-aec0-1e5fc32de067",
   "metadata": {},
   "outputs": [
    {
     "name": "stdout",
     "output_type": "stream",
     "text": [
      "Values in the function is [4, [7, 9]]\n",
      "Value : [4, [7, 9]]\n"
     ]
    }
   ],
   "source": [
    "daftar = [4]\n",
    "rubah(daftar)\n",
    "print(\"Value : {}\". format(daftar))"
   ]
  },
  {
   "cell_type": "markdown",
   "id": "06aa3ed6-76a2-4747-93e7-1e1d4a76927f",
   "metadata": {},
   "source": [
    "However, you have to be careful because assigning a variable with the same name as a parameter means creating a new variable in the local scope and is not related to the global variable."
   ]
  },
  {
   "cell_type": "code",
   "execution_count": null,
   "id": "a3b74d4d-668c-4ed1-96e9-bc169d6c2304",
   "metadata": {},
   "outputs": [],
   "source": [
    "def tambah_satu(daftar):\n",
    "    for i in range(len(daftar)):\n",
    "        daftar[i] += 1\n",
    "    my_list = [1,2,3,4]\n",
    "    print(\"Daftar setelah pemanggilan fungsi:\". format(daftar[i]))"
   ]
  },
  {
   "cell_type": "code",
   "execution_count": null,
   "id": "30fd745e-5e5e-4672-a4df-9672057ff2ec",
   "metadata": {},
   "outputs": [],
   "source": [
    " tambah_satu([2])"
   ]
  },
  {
   "cell_type": "code",
   "execution_count": null,
   "id": "ce70cdd4-7bf5-4562-86f3-be5d51100df8",
   "metadata": {},
   "outputs": [],
   "source": []
  }
 ],
 "metadata": {
  "kernelspec": {
   "display_name": "Python 3 (ipykernel)",
   "language": "python",
   "name": "python3"
  },
  "language_info": {
   "codemirror_mode": {
    "name": "ipython",
    "version": 3
   },
   "file_extension": ".py",
   "mimetype": "text/x-python",
   "name": "python",
   "nbconvert_exporter": "python",
   "pygments_lexer": "ipython3",
   "version": "3.11.7"
  }
 },
 "nbformat": 4,
 "nbformat_minor": 5
}
