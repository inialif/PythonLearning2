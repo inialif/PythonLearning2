{
 "cells": [
  {
   "cell_type": "markdown",
   "id": "1938c398-f082-4d36-b0e0-4485e4c6ec1e",
   "metadata": {},
   "source": [
    "## ***Pandas - Series***\n",
    "---\n",
    "---"
   ]
  },
  {
   "cell_type": "markdown",
   "id": "dff09beb-5f90-4d63-8bae-c58517cdb584",
   "metadata": {},
   "source": [
    "import the libraries that will be needed"
   ]
  },
  {
   "cell_type": "code",
   "execution_count": 1,
   "id": "d32bbdc7-565b-41a1-a1a9-e137dd41bf9c",
   "metadata": {},
   "outputs": [],
   "source": [
    "import pandas as pd\n",
    "import numpy as np"
   ]
  },
  {
   "cell_type": "markdown",
   "id": "9b6c0914-8f44-45e0-952d-ea49b63a0369",
   "metadata": {},
   "source": [
    "Pandas has two objects, namely series and data frames"
   ]
  },
  {
   "cell_type": "markdown",
   "id": "da457b7f-1dab-4cc4-9b80-0326555ba1d0",
   "metadata": {},
   "source": [
    "### Series\n",
    "---\n",
    "Series has one data dimension, does not have column names because it only has one column, and has an index"
   ]
  },
  {
   "cell_type": "code",
   "execution_count": 2,
   "id": "9ac9ef37-22ef-4df3-969e-4ed2b94b5edc",
   "metadata": {},
   "outputs": [],
   "source": [
    "data = [0.25, 0.50, 0.75, 1]"
   ]
  },
  {
   "cell_type": "code",
   "execution_count": 3,
   "id": "76ebde6a-2f75-4081-a37e-94d7b44d53e2",
   "metadata": {},
   "outputs": [
    {
     "name": "stdout",
     "output_type": "stream",
     "text": [
      "[0.25, 0.5, 0.75, 1]\n"
     ]
    }
   ],
   "source": [
    "print(data)"
   ]
  },
  {
   "cell_type": "code",
   "execution_count": 11,
   "id": "9bc1b64c-9390-4a1e-9153-e042a94fe69d",
   "metadata": {},
   "outputs": [],
   "source": [
    "data = pd.Series(data)"
   ]
  },
  {
   "cell_type": "code",
   "execution_count": 12,
   "id": "d301e1c2-840f-417a-a068-52a2a206823a",
   "metadata": {},
   "outputs": [
    {
     "data": {
      "text/plain": [
       "0    0.25\n",
       "1    0.50\n",
       "2    0.75\n",
       "3    1.00\n",
       "dtype: float64"
      ]
     },
     "execution_count": 12,
     "metadata": {},
     "output_type": "execute_result"
    }
   ],
   "source": [
    "data"
   ]
  },
  {
   "cell_type": "code",
   "execution_count": 13,
   "id": "694ccfa9-1844-48d1-b565-c4b5cc243e55",
   "metadata": {},
   "outputs": [],
   "source": [
    "# Convert from series to array"
   ]
  },
  {
   "cell_type": "markdown",
   "id": "d1c91e93-b46c-498e-b2a1-c60060e7e4ef",
   "metadata": {},
   "source": [
    "##### Convert from series to array"
   ]
  },
  {
   "cell_type": "code",
   "execution_count": 14,
   "id": "6af8453f-ece9-4090-a5f3-e0ee25393c7f",
   "metadata": {},
   "outputs": [],
   "source": [
    "data = [0.25, 0.50, 0.75, 1]"
   ]
  },
  {
   "cell_type": "code",
   "execution_count": 15,
   "id": "79467624-fd85-4a10-9c3f-dc9e81da5e8e",
   "metadata": {},
   "outputs": [],
   "source": [
    "data = pd.Series(data)"
   ]
  },
  {
   "cell_type": "code",
   "execution_count": 16,
   "id": "96c0af0d-b77e-4ed0-819d-d3b6dc85e964",
   "metadata": {},
   "outputs": [
    {
     "data": {
      "text/plain": [
       "0    0.25\n",
       "1    0.50\n",
       "2    0.75\n",
       "3    1.00\n",
       "dtype: float64"
      ]
     },
     "execution_count": 16,
     "metadata": {},
     "output_type": "execute_result"
    }
   ],
   "source": [
    "data"
   ]
  },
  {
   "cell_type": "code",
   "execution_count": 17,
   "id": "33cf8887-e62b-4299-aecf-816b59b60d93",
   "metadata": {},
   "outputs": [
    {
     "data": {
      "text/plain": [
       "array([0.25, 0.5 , 0.75, 1.  ])"
      ]
     },
     "execution_count": 17,
     "metadata": {},
     "output_type": "execute_result"
    }
   ],
   "source": [
    "data.values"
   ]
  },
  {
   "cell_type": "markdown",
   "id": "81105d85-6a62-4334-9473-c53fa16b9ad4",
   "metadata": {},
   "source": [
    "##### Displays Index\n",
    "---\r\n",
    "\r\n",
    "The index is in the form of a range, where the start point is inclusive of the range and the stop point is exclusive of the range"
   ]
  },
  {
   "cell_type": "code",
   "execution_count": 18,
   "id": "5439949e-94d4-4c51-b0ec-c836fa4c3829",
   "metadata": {},
   "outputs": [
    {
     "data": {
      "text/plain": [
       "RangeIndex(start=0, stop=4, step=1)"
      ]
     },
     "execution_count": 18,
     "metadata": {},
     "output_type": "execute_result"
    }
   ],
   "source": [
    "data.index"
   ]
  },
  {
   "cell_type": "code",
   "execution_count": 19,
   "id": "84754971-2b87-40c9-aca4-2b02b54752e7",
   "metadata": {},
   "outputs": [
    {
     "data": {
      "text/plain": [
       "[1, 2, 3, 4, 5, 6, 7, 8, 9]"
      ]
     },
     "execution_count": 19,
     "metadata": {},
     "output_type": "execute_result"
    }
   ],
   "source": [
    "list(range(1,10))"
   ]
  },
  {
   "cell_type": "markdown",
   "id": "b58c3dd2-bd28-41c1-8552-90c5f97146a9",
   "metadata": {},
   "source": [
    "Calling data"
   ]
  },
  {
   "cell_type": "code",
   "execution_count": 20,
   "id": "6dad02c2-85d9-4aaa-a117-d3578882472b",
   "metadata": {},
   "outputs": [
    {
     "data": {
      "text/plain": [
       "0.75"
      ]
     },
     "execution_count": 20,
     "metadata": {},
     "output_type": "execute_result"
    }
   ],
   "source": [
    "data[2]      #indeksnya memakai indeks python"
   ]
  },
  {
   "cell_type": "markdown",
   "id": "60d1805f-a721-4a6c-833f-78464c2ce9dd",
   "metadata": {},
   "source": [
    "When defining Indexes, the number of indexes must be equal to the number of data"
   ]
  },
  {
   "cell_type": "code",
   "execution_count": 21,
   "id": "e08d8c63-9969-4e3f-b18d-4bef73b566d1",
   "metadata": {},
   "outputs": [],
   "source": [
    "data = pd.Series([0.25, 0.50, 0.75, 1], index = ['a','b','c','d'])"
   ]
  },
  {
   "cell_type": "code",
   "execution_count": 22,
   "id": "b2a30b14-8ac9-4a68-83d5-897681ea158d",
   "metadata": {},
   "outputs": [
    {
     "data": {
      "text/plain": [
       "a    0.25\n",
       "b    0.50\n",
       "c    0.75\n",
       "d    1.00\n",
       "dtype: float64"
      ]
     },
     "execution_count": 22,
     "metadata": {},
     "output_type": "execute_result"
    }
   ],
   "source": [
    "data"
   ]
  },
  {
   "cell_type": "code",
   "execution_count": 23,
   "id": "b397b006-a492-445f-a585-23704c7a51d3",
   "metadata": {},
   "outputs": [
    {
     "data": {
      "text/plain": [
       "array([0.25, 0.5 , 0.75, 1.  ])"
      ]
     },
     "execution_count": 23,
     "metadata": {},
     "output_type": "execute_result"
    }
   ],
   "source": [
    "data.values"
   ]
  },
  {
   "cell_type": "code",
   "execution_count": 24,
   "id": "d832be7c-5a8a-4fa0-a317-3c66ffde1a14",
   "metadata": {},
   "outputs": [
    {
     "data": {
      "text/plain": [
       "Index(['a', 'b', 'c', 'd'], dtype='object')"
      ]
     },
     "execution_count": 24,
     "metadata": {},
     "output_type": "execute_result"
    }
   ],
   "source": [
    "data.index"
   ]
  },
  {
   "cell_type": "code",
   "execution_count": 25,
   "id": "ca7229c5-bdb6-410e-a5aa-48475082947e",
   "metadata": {},
   "outputs": [
    {
     "data": {
      "text/plain": [
       "0.25"
      ]
     },
     "execution_count": 25,
     "metadata": {},
     "output_type": "execute_result"
    }
   ],
   "source": [
    "# Indeks Eksplisit\n",
    "\n",
    "data['a']"
   ]
  },
  {
   "cell_type": "markdown",
   "id": "b25d4201-2988-4a08-898d-7e49e5a01972",
   "metadata": {},
   "source": [
    "Because this is selection data, even though an explicit index has been created, the implicit index can still be called"
   ]
  },
  {
   "cell_type": "code",
   "execution_count": 26,
   "id": "6c5598c3-3596-4a42-b4e5-1fc422e09ccc",
   "metadata": {},
   "outputs": [
    {
     "name": "stderr",
     "output_type": "stream",
     "text": [
      "C:\\Users\\alifia\\AppData\\Local\\Temp\\ipykernel_19160\\1719098127.py:3: FutureWarning: Series.__getitem__ treating keys as positions is deprecated. In a future version, integer keys will always be treated as labels (consistent with DataFrame behavior). To access a value by position, use `ser.iloc[pos]`\n",
      "  data[2]\n"
     ]
    },
    {
     "data": {
      "text/plain": [
       "0.75"
      ]
     },
     "execution_count": 26,
     "metadata": {},
     "output_type": "execute_result"
    }
   ],
   "source": [
    "# Indeks Implisit\n",
    "\n",
    "data[2]"
   ]
  },
  {
   "cell_type": "markdown",
   "id": "74da1dcc-b90d-46a4-8e48-12a7b2a7df85",
   "metadata": {},
   "source": [
    "When the implicit and explicit indexes are the same, then when calling the data it will rely on the explicit index"
   ]
  },
  {
   "cell_type": "code",
   "execution_count": 27,
   "id": "1a3e1fb5-1bf3-47b0-ad78-c98687affb9e",
   "metadata": {},
   "outputs": [],
   "source": [
    "data_2 = pd.Series([0.25, 0.5, 0.75, 1], index = [2, 5, 3, 7])"
   ]
  },
  {
   "cell_type": "code",
   "execution_count": 28,
   "id": "4d2e7f41-c03e-4cf9-9301-9efd938cab07",
   "metadata": {},
   "outputs": [
    {
     "data": {
      "text/plain": [
       "0.25"
      ]
     },
     "execution_count": 28,
     "metadata": {},
     "output_type": "execute_result"
    }
   ],
   "source": [
    "data_2[2]"
   ]
  },
  {
   "cell_type": "code",
   "execution_count": 29,
   "id": "0f1670d1-4ff1-4da0-b8de-b3b250733a46",
   "metadata": {},
   "outputs": [
    {
     "ename": "KeyError",
     "evalue": "0",
     "output_type": "error",
     "traceback": [
      "\u001b[1;31m---------------------------------------------------------------------------\u001b[0m",
      "\u001b[1;31mKeyError\u001b[0m                                  Traceback (most recent call last)",
      "File \u001b[1;32m~\\anaconda3\\Lib\\site-packages\\pandas\\core\\indexes\\base.py:3791\u001b[0m, in \u001b[0;36mIndex.get_loc\u001b[1;34m(self, key)\u001b[0m\n\u001b[0;32m   3790\u001b[0m \u001b[38;5;28;01mtry\u001b[39;00m:\n\u001b[1;32m-> 3791\u001b[0m     \u001b[38;5;28;01mreturn\u001b[39;00m \u001b[38;5;28mself\u001b[39m\u001b[38;5;241m.\u001b[39m_engine\u001b[38;5;241m.\u001b[39mget_loc(casted_key)\n\u001b[0;32m   3792\u001b[0m \u001b[38;5;28;01mexcept\u001b[39;00m \u001b[38;5;167;01mKeyError\u001b[39;00m \u001b[38;5;28;01mas\u001b[39;00m err:\n",
      "File \u001b[1;32mindex.pyx:152\u001b[0m, in \u001b[0;36mpandas._libs.index.IndexEngine.get_loc\u001b[1;34m()\u001b[0m\n",
      "File \u001b[1;32mindex.pyx:181\u001b[0m, in \u001b[0;36mpandas._libs.index.IndexEngine.get_loc\u001b[1;34m()\u001b[0m\n",
      "File \u001b[1;32mpandas\\_libs\\hashtable_class_helper.pxi:2606\u001b[0m, in \u001b[0;36mpandas._libs.hashtable.Int64HashTable.get_item\u001b[1;34m()\u001b[0m\n",
      "File \u001b[1;32mpandas\\_libs\\hashtable_class_helper.pxi:2630\u001b[0m, in \u001b[0;36mpandas._libs.hashtable.Int64HashTable.get_item\u001b[1;34m()\u001b[0m\n",
      "\u001b[1;31mKeyError\u001b[0m: 0",
      "\nThe above exception was the direct cause of the following exception:\n",
      "\u001b[1;31mKeyError\u001b[0m                                  Traceback (most recent call last)",
      "Cell \u001b[1;32mIn[29], line 1\u001b[0m\n\u001b[1;32m----> 1\u001b[0m data_2[\u001b[38;5;241m0\u001b[39m]\n",
      "File \u001b[1;32m~\\anaconda3\\Lib\\site-packages\\pandas\\core\\series.py:1040\u001b[0m, in \u001b[0;36mSeries.__getitem__\u001b[1;34m(self, key)\u001b[0m\n\u001b[0;32m   1037\u001b[0m     \u001b[38;5;28;01mreturn\u001b[39;00m \u001b[38;5;28mself\u001b[39m\u001b[38;5;241m.\u001b[39m_values[key]\n\u001b[0;32m   1039\u001b[0m \u001b[38;5;28;01melif\u001b[39;00m key_is_scalar:\n\u001b[1;32m-> 1040\u001b[0m     \u001b[38;5;28;01mreturn\u001b[39;00m \u001b[38;5;28mself\u001b[39m\u001b[38;5;241m.\u001b[39m_get_value(key)\n\u001b[0;32m   1042\u001b[0m \u001b[38;5;66;03m# Convert generator to list before going through hashable part\u001b[39;00m\n\u001b[0;32m   1043\u001b[0m \u001b[38;5;66;03m# (We will iterate through the generator there to check for slices)\u001b[39;00m\n\u001b[0;32m   1044\u001b[0m \u001b[38;5;28;01mif\u001b[39;00m is_iterator(key):\n",
      "File \u001b[1;32m~\\anaconda3\\Lib\\site-packages\\pandas\\core\\series.py:1156\u001b[0m, in \u001b[0;36mSeries._get_value\u001b[1;34m(self, label, takeable)\u001b[0m\n\u001b[0;32m   1153\u001b[0m     \u001b[38;5;28;01mreturn\u001b[39;00m \u001b[38;5;28mself\u001b[39m\u001b[38;5;241m.\u001b[39m_values[label]\n\u001b[0;32m   1155\u001b[0m \u001b[38;5;66;03m# Similar to Index.get_value, but we do not fall back to positional\u001b[39;00m\n\u001b[1;32m-> 1156\u001b[0m loc \u001b[38;5;241m=\u001b[39m \u001b[38;5;28mself\u001b[39m\u001b[38;5;241m.\u001b[39mindex\u001b[38;5;241m.\u001b[39mget_loc(label)\n\u001b[0;32m   1158\u001b[0m \u001b[38;5;28;01mif\u001b[39;00m is_integer(loc):\n\u001b[0;32m   1159\u001b[0m     \u001b[38;5;28;01mreturn\u001b[39;00m \u001b[38;5;28mself\u001b[39m\u001b[38;5;241m.\u001b[39m_values[loc]\n",
      "File \u001b[1;32m~\\anaconda3\\Lib\\site-packages\\pandas\\core\\indexes\\base.py:3798\u001b[0m, in \u001b[0;36mIndex.get_loc\u001b[1;34m(self, key)\u001b[0m\n\u001b[0;32m   3793\u001b[0m     \u001b[38;5;28;01mif\u001b[39;00m \u001b[38;5;28misinstance\u001b[39m(casted_key, \u001b[38;5;28mslice\u001b[39m) \u001b[38;5;129;01mor\u001b[39;00m (\n\u001b[0;32m   3794\u001b[0m         \u001b[38;5;28misinstance\u001b[39m(casted_key, abc\u001b[38;5;241m.\u001b[39mIterable)\n\u001b[0;32m   3795\u001b[0m         \u001b[38;5;129;01mand\u001b[39;00m \u001b[38;5;28many\u001b[39m(\u001b[38;5;28misinstance\u001b[39m(x, \u001b[38;5;28mslice\u001b[39m) \u001b[38;5;28;01mfor\u001b[39;00m x \u001b[38;5;129;01min\u001b[39;00m casted_key)\n\u001b[0;32m   3796\u001b[0m     ):\n\u001b[0;32m   3797\u001b[0m         \u001b[38;5;28;01mraise\u001b[39;00m InvalidIndexError(key)\n\u001b[1;32m-> 3798\u001b[0m     \u001b[38;5;28;01mraise\u001b[39;00m \u001b[38;5;167;01mKeyError\u001b[39;00m(key) \u001b[38;5;28;01mfrom\u001b[39;00m \u001b[38;5;21;01merr\u001b[39;00m\n\u001b[0;32m   3799\u001b[0m \u001b[38;5;28;01mexcept\u001b[39;00m \u001b[38;5;167;01mTypeError\u001b[39;00m:\n\u001b[0;32m   3800\u001b[0m     \u001b[38;5;66;03m# If we have a listlike key, _check_indexing_error will raise\u001b[39;00m\n\u001b[0;32m   3801\u001b[0m     \u001b[38;5;66;03m#  InvalidIndexError. Otherwise we fall through and re-raise\u001b[39;00m\n\u001b[0;32m   3802\u001b[0m     \u001b[38;5;66;03m#  the TypeError.\u001b[39;00m\n\u001b[0;32m   3803\u001b[0m     \u001b[38;5;28mself\u001b[39m\u001b[38;5;241m.\u001b[39m_check_indexing_error(key)\n",
      "\u001b[1;31mKeyError\u001b[0m: 0"
     ]
    }
   ],
   "source": [
    "data_2[0]"
   ]
  },
  {
   "cell_type": "code",
   "execution_count": 30,
   "id": "3ba81b2b-5236-4184-a168-861dcfa5f4de",
   "metadata": {},
   "outputs": [],
   "source": [
    "# Data slicing\n",
    "\n",
    "data_2 = pd.Series([0.25, 0.5, 0.75, 1], index = ['a','b','c','d'])"
   ]
  },
  {
   "cell_type": "code",
   "execution_count": 31,
   "id": "ff2a0458-a83f-4fc9-9254-790ebd495a85",
   "metadata": {},
   "outputs": [
    {
     "data": {
      "text/plain": [
       "a    0.25\n",
       "b    0.50\n",
       "c    0.75\n",
       "d    1.00\n",
       "dtype: float64"
      ]
     },
     "execution_count": 31,
     "metadata": {},
     "output_type": "execute_result"
    }
   ],
   "source": [
    "data_2"
   ]
  },
  {
   "cell_type": "code",
   "execution_count": 32,
   "id": "7d7d1488-9051-4298-8948-a5df1a2e1c3e",
   "metadata": {},
   "outputs": [
    {
     "data": {
      "text/plain": [
       "b    0.50\n",
       "c    0.75\n",
       "dtype: float64"
      ]
     },
     "execution_count": 32,
     "metadata": {},
     "output_type": "execute_result"
    }
   ],
   "source": [
    "# Memanggil dari data b sampai c\n",
    "\n",
    "data_2['b': 'c']    #indeks eksplisit"
   ]
  },
  {
   "cell_type": "markdown",
   "id": "b43bb654-7190-4016-94af-85fdf473dbbb",
   "metadata": {},
   "source": [
    "When slicing an implicit index, only the starting point will appear because the implicit index is a range"
   ]
  },
  {
   "cell_type": "code",
   "execution_count": 33,
   "id": "a2e1f879-3e8d-4127-b4e9-2c4a0162582e",
   "metadata": {},
   "outputs": [
    {
     "data": {
      "text/plain": [
       "b    0.5\n",
       "dtype: float64"
      ]
     },
     "execution_count": 33,
     "metadata": {},
     "output_type": "execute_result"
    }
   ],
   "source": [
    "data_2[1 : 2]    #indeks implisit"
   ]
  },
  {
   "cell_type": "markdown",
   "id": "2bed219f-1b82-4f21-8c2c-00785fd2e3b0",
   "metadata": {},
   "source": []
  },
  {
   "cell_type": "markdown",
   "id": "2a46943d-f150-48c9-9ef9-03608a1b1f1f",
   "metadata": {},
   "source": [
    "#### Loc - Iloc\n",
    "---"
   ]
  },
  {
   "cell_type": "code",
   "execution_count": 34,
   "id": "99291a49-a56b-4b09-b69d-5d4212762147",
   "metadata": {},
   "outputs": [],
   "source": [
    "data_2 = pd.Series([0.25, 0.5, 0.75, 1], index = [2, 5, 3, 7])"
   ]
  },
  {
   "cell_type": "code",
   "execution_count": 35,
   "id": "c9e5ab0d-8dff-4ef5-b44d-76014878f621",
   "metadata": {},
   "outputs": [
    {
     "data": {
      "text/plain": [
       "2    0.25\n",
       "5    0.50\n",
       "3    0.75\n",
       "7    1.00\n",
       "dtype: float64"
      ]
     },
     "execution_count": 35,
     "metadata": {},
     "output_type": "execute_result"
    }
   ],
   "source": [
    "data_2"
   ]
  },
  {
   "cell_type": "markdown",
   "id": "9b178014-557f-4e7e-8d20-b0cb48f61ab8",
   "metadata": {},
   "source": [
    "When we access an index, what appears is the explicit index"
   ]
  },
  {
   "cell_type": "code",
   "execution_count": 36,
   "id": "145afbdd-a156-4df2-82ad-12268c30dd28",
   "metadata": {},
   "outputs": [
    {
     "data": {
      "text/plain": [
       "0.25"
      ]
     },
     "execution_count": 36,
     "metadata": {},
     "output_type": "execute_result"
    }
   ],
   "source": [
    "data_2[2]   #indeks eksplisit : selecting"
   ]
  },
  {
   "cell_type": "markdown",
   "id": "95f92df4-8015-4335-9e17-b9c9469cb22b",
   "metadata": {},
   "source": [
    "When calling the explicit index from index 2 to 3, the value that appears is the implicit index"
   ]
  },
  {
   "cell_type": "code",
   "execution_count": 37,
   "id": "f71e923e-c4d5-4c59-88cd-87143fc2c94a",
   "metadata": {},
   "outputs": [
    {
     "data": {
      "text/plain": [
       "3    0.75\n",
       "dtype: float64"
      ]
     },
     "execution_count": 37,
     "metadata": {},
     "output_type": "execute_result"
    }
   ],
   "source": [
    "data_2[2:3]    #indeks implisit : slicing"
   ]
  },
  {
   "cell_type": "markdown",
   "id": "d1c0a0bb-202e-44cf-a9a0-17bb3785e713",
   "metadata": {},
   "source": [
    "When the explicit and implicit indexes are the same, inconsistencies will occur, so loc and iloc are used\r\n",
    "\r\n",
    "+ Loc to call an explicit index\r\n",
    "+ Iloc to call implicit index"
   ]
  },
  {
   "cell_type": "code",
   "execution_count": 38,
   "id": "340b0620-8751-4b2e-a28d-c17f06c7fe54",
   "metadata": {},
   "outputs": [
    {
     "data": {
      "text/plain": [
       "0.75"
      ]
     },
     "execution_count": 38,
     "metadata": {},
     "output_type": "execute_result"
    }
   ],
   "source": [
    "# Loc\n",
    "\n",
    "data_2.loc[3]     #selecting index explicit"
   ]
  },
  {
   "cell_type": "code",
   "execution_count": 39,
   "id": "0cbc0c91-94d1-4a6f-bcd6-abbb3188d3c1",
   "metadata": {},
   "outputs": [
    {
     "data": {
      "text/plain": [
       "2    0.25\n",
       "5    0.50\n",
       "3    0.75\n",
       "dtype: float64"
      ]
     },
     "execution_count": 39,
     "metadata": {},
     "output_type": "execute_result"
    }
   ],
   "source": [
    "data_2.loc[2:3]   #slicing index explicit"
   ]
  },
  {
   "cell_type": "code",
   "execution_count": 40,
   "id": "152179e9-7768-4200-8afd-a63ef27eb271",
   "metadata": {},
   "outputs": [
    {
     "data": {
      "text/plain": [
       "0.25"
      ]
     },
     "execution_count": 40,
     "metadata": {},
     "output_type": "execute_result"
    }
   ],
   "source": [
    "# Iloc\n",
    "\n",
    "data_2.iloc[0]    #selecting index implisit"
   ]
  },
  {
   "cell_type": "code",
   "execution_count": 41,
   "id": "03859140-f36a-4c04-93ba-cff1754a3160",
   "metadata": {},
   "outputs": [
    {
     "data": {
      "text/plain": [
       "1.0"
      ]
     },
     "execution_count": 41,
     "metadata": {},
     "output_type": "execute_result"
    }
   ],
   "source": [
    "data_2.iloc[3]      #selecting index implisit"
   ]
  },
  {
   "cell_type": "code",
   "execution_count": null,
   "id": "bf97ffe4-1267-4b60-bcfa-f93859c65fe0",
   "metadata": {},
   "outputs": [],
   "source": []
  },
  {
   "cell_type": "markdown",
   "id": "f65df88f-a3d8-4c49-b6f3-83f3787f9b84",
   "metadata": {},
   "source": [
    "#### Task - Object Series\n",
    "---"
   ]
  },
  {
   "cell_type": "code",
   "execution_count": 42,
   "id": "122651e3-9446-47c7-98f9-ce4d5734532d",
   "metadata": {},
   "outputs": [],
   "source": [
    "# Membuat Series dari Dictionary\n",
    "\n",
    "data = {'a' : 10, 'b' : 20, 'c' : 30, 'd' : 40, 'e' : 50}"
   ]
  },
  {
   "cell_type": "code",
   "execution_count": 43,
   "id": "fd91d118-72ed-4adf-aae2-a9401131f3ee",
   "metadata": {},
   "outputs": [],
   "source": [
    "import pandas as pd\n",
    "import numpy as np"
   ]
  },
  {
   "cell_type": "code",
   "execution_count": 44,
   "id": "7c7dd44e-d1be-42ff-bbd9-bed7dcbfde44",
   "metadata": {},
   "outputs": [
    {
     "name": "stdout",
     "output_type": "stream",
     "text": [
      "{'a': 10, 'b': 20, 'c': 30, 'd': 40, 'e': 50}\n"
     ]
    }
   ],
   "source": [
    "print(data)"
   ]
  },
  {
   "cell_type": "code",
   "execution_count": 45,
   "id": "91b6d691-e561-4e20-bf40-cdcc74fecc78",
   "metadata": {},
   "outputs": [
    {
     "name": "stdout",
     "output_type": "stream",
     "text": [
      "a    10\n",
      "b    20\n",
      "c    30\n",
      "d    40\n",
      "e    50\n",
      "dtype: int64\n"
     ]
    }
   ],
   "source": [
    "series = pd.Series(data)\n",
    "print(series)"
   ]
  },
  {
   "cell_type": "markdown",
   "id": "ca7dafc8-3ba2-459d-942b-a0416b8f61b1",
   "metadata": {},
   "source": [
    "#### Task - Index \n",
    "---"
   ]
  },
  {
   "cell_type": "code",
   "execution_count": 46,
   "id": "20afa29f-6f75-4595-83a5-b18a51e483de",
   "metadata": {},
   "outputs": [
    {
     "data": {
      "text/plain": [
       "0    10\n",
       "1    20\n",
       "2    30\n",
       "3    40\n",
       "4    50\n",
       "dtype: int64"
      ]
     },
     "execution_count": 46,
     "metadata": {},
     "output_type": "execute_result"
    }
   ],
   "source": [
    "data = [10, 20, 30, 40, 50]\n",
    "series = pd.Series(data)\n",
    "\n",
    "series"
   ]
  },
  {
   "cell_type": "code",
   "execution_count": 47,
   "id": "2dd90122-634c-40e7-a30d-106dda18996a",
   "metadata": {},
   "outputs": [
    {
     "data": {
      "text/plain": [
       "array([10, 20, 30, 40, 50], dtype=int64)"
      ]
     },
     "execution_count": 47,
     "metadata": {},
     "output_type": "execute_result"
    }
   ],
   "source": [
    "series.values"
   ]
  },
  {
   "cell_type": "code",
   "execution_count": 48,
   "id": "2c55b2d4-b713-469d-b11d-0e83484a7bbd",
   "metadata": {},
   "outputs": [
    {
     "data": {
      "text/plain": [
       "RangeIndex(start=0, stop=5, step=1)"
      ]
     },
     "execution_count": 48,
     "metadata": {},
     "output_type": "execute_result"
    }
   ],
   "source": [
    "series.index"
   ]
  },
  {
   "cell_type": "code",
   "execution_count": 49,
   "id": "fe0f8327-e35f-41a9-8721-c511a92ea99f",
   "metadata": {},
   "outputs": [
    {
     "data": {
      "text/plain": [
       "[1, 2]"
      ]
     },
     "execution_count": 49,
     "metadata": {},
     "output_type": "execute_result"
    }
   ],
   "source": [
    "list(range(1,3))"
   ]
  },
  {
   "cell_type": "code",
   "execution_count": 50,
   "id": "6e484a6a-3d84-41d5-ad8c-914933e6859a",
   "metadata": {},
   "outputs": [
    {
     "data": {
      "text/plain": [
       "50"
      ]
     },
     "execution_count": 50,
     "metadata": {},
     "output_type": "execute_result"
    }
   ],
   "source": [
    "series[4]"
   ]
  },
  {
   "cell_type": "code",
   "execution_count": 51,
   "id": "c5d2148a-c13d-43fe-b51e-2f2873d0ef13",
   "metadata": {},
   "outputs": [
    {
     "name": "stdout",
     "output_type": "stream",
     "text": [
      "Serie dengan indeks eksplisit: \n",
      "a    10\n",
      "b    20\n",
      "c    30\n",
      "d    40\n",
      "e    50\n",
      "dtype: int64\n"
     ]
    }
   ],
   "source": [
    "# Custom Index\n",
    "\n",
    "data = [10, 20, 30, 40, 50]\n",
    "index = ['a','b','c','d','e']\n",
    "series_explicit_index = pd.Series(data, index=index)\n",
    "print(\"Serie dengan indeks eksplisit: \")\n",
    "print(series_explicit_index)"
   ]
  },
  {
   "cell_type": "code",
   "execution_count": 52,
   "id": "4edb0975-1359-4ef0-a87e-06a73cb58dea",
   "metadata": {},
   "outputs": [
    {
     "data": {
      "text/plain": [
       "20"
      ]
     },
     "execution_count": 52,
     "metadata": {},
     "output_type": "execute_result"
    }
   ],
   "source": [
    "series_explicit_index['b']"
   ]
  },
  {
   "cell_type": "code",
   "execution_count": 53,
   "id": "63bcdf20-89e0-4714-a5e2-101f300dae34",
   "metadata": {},
   "outputs": [
    {
     "name": "stderr",
     "output_type": "stream",
     "text": [
      "C:\\Users\\alifia\\AppData\\Local\\Temp\\ipykernel_19160\\4047661461.py:1: FutureWarning: Series.__getitem__ treating keys as positions is deprecated. In a future version, integer keys will always be treated as labels (consistent with DataFrame behavior). To access a value by position, use `ser.iloc[pos]`\n",
      "  series_explicit_index[2]\n"
     ]
    },
    {
     "data": {
      "text/plain": [
       "30"
      ]
     },
     "execution_count": 53,
     "metadata": {},
     "output_type": "execute_result"
    }
   ],
   "source": [
    "series_explicit_index[2]"
   ]
  },
  {
   "cell_type": "markdown",
   "id": "28101433-42ae-46ad-b641-ab956e6deb48",
   "metadata": {},
   "source": [
    "#### Task\n",
    "---"
   ]
  },
  {
   "cell_type": "code",
   "execution_count": 54,
   "id": "2c276f3f-26a0-41a2-bdd7-023cca5eac4d",
   "metadata": {},
   "outputs": [
    {
     "name": "stdout",
     "output_type": "stream",
     "text": [
      "3    10\n",
      "2    20\n",
      "1    30\n",
      "4    40\n",
      "5    50\n",
      "dtype: int64\n"
     ]
    }
   ],
   "source": [
    "data = pd.Series([10, 20, 30, 40, 50], index = [3,2,1,4,5])\n",
    "print(data)"
   ]
  },
  {
   "cell_type": "code",
   "execution_count": 55,
   "id": "b25ca842-49e5-46f2-a196-07217dc56a01",
   "metadata": {},
   "outputs": [
    {
     "data": {
      "text/plain": [
       "20"
      ]
     },
     "execution_count": 55,
     "metadata": {},
     "output_type": "execute_result"
    }
   ],
   "source": [
    "data[2]"
   ]
  },
  {
   "cell_type": "code",
   "execution_count": 56,
   "id": "343288a6-44b0-4076-bf86-7edc9927fd59",
   "metadata": {},
   "outputs": [
    {
     "ename": "KeyError",
     "evalue": "0",
     "output_type": "error",
     "traceback": [
      "\u001b[1;31m---------------------------------------------------------------------------\u001b[0m",
      "\u001b[1;31mKeyError\u001b[0m                                  Traceback (most recent call last)",
      "File \u001b[1;32m~\\anaconda3\\Lib\\site-packages\\pandas\\core\\indexes\\base.py:3791\u001b[0m, in \u001b[0;36mIndex.get_loc\u001b[1;34m(self, key)\u001b[0m\n\u001b[0;32m   3790\u001b[0m \u001b[38;5;28;01mtry\u001b[39;00m:\n\u001b[1;32m-> 3791\u001b[0m     \u001b[38;5;28;01mreturn\u001b[39;00m \u001b[38;5;28mself\u001b[39m\u001b[38;5;241m.\u001b[39m_engine\u001b[38;5;241m.\u001b[39mget_loc(casted_key)\n\u001b[0;32m   3792\u001b[0m \u001b[38;5;28;01mexcept\u001b[39;00m \u001b[38;5;167;01mKeyError\u001b[39;00m \u001b[38;5;28;01mas\u001b[39;00m err:\n",
      "File \u001b[1;32mindex.pyx:152\u001b[0m, in \u001b[0;36mpandas._libs.index.IndexEngine.get_loc\u001b[1;34m()\u001b[0m\n",
      "File \u001b[1;32mindex.pyx:181\u001b[0m, in \u001b[0;36mpandas._libs.index.IndexEngine.get_loc\u001b[1;34m()\u001b[0m\n",
      "File \u001b[1;32mpandas\\_libs\\hashtable_class_helper.pxi:2606\u001b[0m, in \u001b[0;36mpandas._libs.hashtable.Int64HashTable.get_item\u001b[1;34m()\u001b[0m\n",
      "File \u001b[1;32mpandas\\_libs\\hashtable_class_helper.pxi:2630\u001b[0m, in \u001b[0;36mpandas._libs.hashtable.Int64HashTable.get_item\u001b[1;34m()\u001b[0m\n",
      "\u001b[1;31mKeyError\u001b[0m: 0",
      "\nThe above exception was the direct cause of the following exception:\n",
      "\u001b[1;31mKeyError\u001b[0m                                  Traceback (most recent call last)",
      "Cell \u001b[1;32mIn[56], line 1\u001b[0m\n\u001b[1;32m----> 1\u001b[0m data[\u001b[38;5;241m0\u001b[39m]\n",
      "File \u001b[1;32m~\\anaconda3\\Lib\\site-packages\\pandas\\core\\series.py:1040\u001b[0m, in \u001b[0;36mSeries.__getitem__\u001b[1;34m(self, key)\u001b[0m\n\u001b[0;32m   1037\u001b[0m     \u001b[38;5;28;01mreturn\u001b[39;00m \u001b[38;5;28mself\u001b[39m\u001b[38;5;241m.\u001b[39m_values[key]\n\u001b[0;32m   1039\u001b[0m \u001b[38;5;28;01melif\u001b[39;00m key_is_scalar:\n\u001b[1;32m-> 1040\u001b[0m     \u001b[38;5;28;01mreturn\u001b[39;00m \u001b[38;5;28mself\u001b[39m\u001b[38;5;241m.\u001b[39m_get_value(key)\n\u001b[0;32m   1042\u001b[0m \u001b[38;5;66;03m# Convert generator to list before going through hashable part\u001b[39;00m\n\u001b[0;32m   1043\u001b[0m \u001b[38;5;66;03m# (We will iterate through the generator there to check for slices)\u001b[39;00m\n\u001b[0;32m   1044\u001b[0m \u001b[38;5;28;01mif\u001b[39;00m is_iterator(key):\n",
      "File \u001b[1;32m~\\anaconda3\\Lib\\site-packages\\pandas\\core\\series.py:1156\u001b[0m, in \u001b[0;36mSeries._get_value\u001b[1;34m(self, label, takeable)\u001b[0m\n\u001b[0;32m   1153\u001b[0m     \u001b[38;5;28;01mreturn\u001b[39;00m \u001b[38;5;28mself\u001b[39m\u001b[38;5;241m.\u001b[39m_values[label]\n\u001b[0;32m   1155\u001b[0m \u001b[38;5;66;03m# Similar to Index.get_value, but we do not fall back to positional\u001b[39;00m\n\u001b[1;32m-> 1156\u001b[0m loc \u001b[38;5;241m=\u001b[39m \u001b[38;5;28mself\u001b[39m\u001b[38;5;241m.\u001b[39mindex\u001b[38;5;241m.\u001b[39mget_loc(label)\n\u001b[0;32m   1158\u001b[0m \u001b[38;5;28;01mif\u001b[39;00m is_integer(loc):\n\u001b[0;32m   1159\u001b[0m     \u001b[38;5;28;01mreturn\u001b[39;00m \u001b[38;5;28mself\u001b[39m\u001b[38;5;241m.\u001b[39m_values[loc]\n",
      "File \u001b[1;32m~\\anaconda3\\Lib\\site-packages\\pandas\\core\\indexes\\base.py:3798\u001b[0m, in \u001b[0;36mIndex.get_loc\u001b[1;34m(self, key)\u001b[0m\n\u001b[0;32m   3793\u001b[0m     \u001b[38;5;28;01mif\u001b[39;00m \u001b[38;5;28misinstance\u001b[39m(casted_key, \u001b[38;5;28mslice\u001b[39m) \u001b[38;5;129;01mor\u001b[39;00m (\n\u001b[0;32m   3794\u001b[0m         \u001b[38;5;28misinstance\u001b[39m(casted_key, abc\u001b[38;5;241m.\u001b[39mIterable)\n\u001b[0;32m   3795\u001b[0m         \u001b[38;5;129;01mand\u001b[39;00m \u001b[38;5;28many\u001b[39m(\u001b[38;5;28misinstance\u001b[39m(x, \u001b[38;5;28mslice\u001b[39m) \u001b[38;5;28;01mfor\u001b[39;00m x \u001b[38;5;129;01min\u001b[39;00m casted_key)\n\u001b[0;32m   3796\u001b[0m     ):\n\u001b[0;32m   3797\u001b[0m         \u001b[38;5;28;01mraise\u001b[39;00m InvalidIndexError(key)\n\u001b[1;32m-> 3798\u001b[0m     \u001b[38;5;28;01mraise\u001b[39;00m \u001b[38;5;167;01mKeyError\u001b[39;00m(key) \u001b[38;5;28;01mfrom\u001b[39;00m \u001b[38;5;21;01merr\u001b[39;00m\n\u001b[0;32m   3799\u001b[0m \u001b[38;5;28;01mexcept\u001b[39;00m \u001b[38;5;167;01mTypeError\u001b[39;00m:\n\u001b[0;32m   3800\u001b[0m     \u001b[38;5;66;03m# If we have a listlike key, _check_indexing_error will raise\u001b[39;00m\n\u001b[0;32m   3801\u001b[0m     \u001b[38;5;66;03m#  InvalidIndexError. Otherwise we fall through and re-raise\u001b[39;00m\n\u001b[0;32m   3802\u001b[0m     \u001b[38;5;66;03m#  the TypeError.\u001b[39;00m\n\u001b[0;32m   3803\u001b[0m     \u001b[38;5;28mself\u001b[39m\u001b[38;5;241m.\u001b[39m_check_indexing_error(key)\n",
      "\u001b[1;31mKeyError\u001b[0m: 0"
     ]
    }
   ],
   "source": [
    "data[0]"
   ]
  },
  {
   "cell_type": "markdown",
   "id": "237ad371-8ad2-4b9c-9296-cb4b8372c17f",
   "metadata": {},
   "source": [
    "#### Task - Loc iloc\n",
    "---"
   ]
  },
  {
   "cell_type": "code",
   "execution_count": 57,
   "id": "d9731aa8-a784-489f-a628-60ec6a1c459a",
   "metadata": {},
   "outputs": [
    {
     "name": "stdout",
     "output_type": "stream",
     "text": [
      "3    10\n",
      "2    20\n",
      "1    30\n",
      "4    40\n",
      "5    50\n",
      "dtype: int64\n"
     ]
    }
   ],
   "source": [
    "data = pd.Series([10, 20, 30, 40, 50], index = [3,2,1,4,5])\n",
    "print(data)"
   ]
  },
  {
   "cell_type": "code",
   "execution_count": 58,
   "id": "24f92bf7-320e-45fc-a8c8-3ecee064699f",
   "metadata": {},
   "outputs": [
    {
     "data": {
      "text/plain": [
       "40"
      ]
     },
     "execution_count": 58,
     "metadata": {},
     "output_type": "execute_result"
    }
   ],
   "source": [
    "data.loc[4]"
   ]
  },
  {
   "cell_type": "code",
   "execution_count": 59,
   "id": "0dd82150-e8d8-4db8-86bc-09670f4c6aa9",
   "metadata": {},
   "outputs": [
    {
     "data": {
      "text/plain": [
       "2    20\n",
       "1    30\n",
       "4    40\n",
       "dtype: int64"
      ]
     },
     "execution_count": 59,
     "metadata": {},
     "output_type": "execute_result"
    }
   ],
   "source": [
    "data.loc[2:4]"
   ]
  },
  {
   "cell_type": "code",
   "execution_count": 60,
   "id": "325c7725-6c92-4b1f-bd62-e4abc627985b",
   "metadata": {},
   "outputs": [
    {
     "data": {
      "text/plain": [
       "30"
      ]
     },
     "execution_count": 60,
     "metadata": {},
     "output_type": "execute_result"
    }
   ],
   "source": [
    "data.iloc[2]"
   ]
  },
  {
   "cell_type": "code",
   "execution_count": 61,
   "id": "578fca2b-d34f-4be9-a429-1403bf775b2c",
   "metadata": {},
   "outputs": [],
   "source": [
    "data = pd.Series([10, 20, 30, 40, 50], index = ['b','c','e','d','a'])"
   ]
  },
  {
   "cell_type": "code",
   "execution_count": 62,
   "id": "a2bc1a7a-a008-453b-869f-4edeaf21a730",
   "metadata": {},
   "outputs": [
    {
     "data": {
      "text/plain": [
       "b    10\n",
       "c    20\n",
       "e    30\n",
       "d    40\n",
       "a    50\n",
       "dtype: int64"
      ]
     },
     "execution_count": 62,
     "metadata": {},
     "output_type": "execute_result"
    }
   ],
   "source": [
    "data"
   ]
  },
  {
   "cell_type": "code",
   "execution_count": 63,
   "id": "7f0816f4-ce6a-4ad2-83d4-ac2a6228135a",
   "metadata": {},
   "outputs": [
    {
     "data": {
      "text/plain": [
       "10"
      ]
     },
     "execution_count": 63,
     "metadata": {},
     "output_type": "execute_result"
    }
   ],
   "source": [
    "data.loc['b']"
   ]
  },
  {
   "cell_type": "code",
   "execution_count": 64,
   "id": "8c601a22-0e19-4a5f-b945-973531a4ef9f",
   "metadata": {},
   "outputs": [
    {
     "data": {
      "text/plain": [
       "b    10\n",
       "c    20\n",
       "e    30\n",
       "dtype: int64"
      ]
     },
     "execution_count": 64,
     "metadata": {},
     "output_type": "execute_result"
    }
   ],
   "source": [
    "data['b':'e']"
   ]
  },
  {
   "cell_type": "code",
   "execution_count": 65,
   "id": "8f2b6d07-7418-4c67-8418-6e7a739d9b6a",
   "metadata": {},
   "outputs": [
    {
     "data": {
      "text/plain": [
       "30"
      ]
     },
     "execution_count": 65,
     "metadata": {},
     "output_type": "execute_result"
    }
   ],
   "source": [
    "data.iloc[2]"
   ]
  },
  {
   "cell_type": "code",
   "execution_count": 66,
   "id": "db33b074-8a18-43c1-9559-05083439a1a8",
   "metadata": {},
   "outputs": [
    {
     "data": {
      "text/plain": [
       "c    20\n",
       "e    30\n",
       "dtype: int64"
      ]
     },
     "execution_count": 66,
     "metadata": {},
     "output_type": "execute_result"
    }
   ],
   "source": [
    "data.iloc[1:3]"
   ]
  },
  {
   "cell_type": "code",
   "execution_count": null,
   "id": "b4a82fa7-a222-4cce-8e37-ed0d2ed29457",
   "metadata": {},
   "outputs": [],
   "source": []
  }
 ],
 "metadata": {
  "kernelspec": {
   "display_name": "Python 3 (ipykernel)",
   "language": "python",
   "name": "python3"
  },
  "language_info": {
   "codemirror_mode": {
    "name": "ipython",
    "version": 3
   },
   "file_extension": ".py",
   "mimetype": "text/x-python",
   "name": "python",
   "nbconvert_exporter": "python",
   "pygments_lexer": "ipython3",
   "version": "3.11.7"
  }
 },
 "nbformat": 4,
 "nbformat_minor": 5
}
