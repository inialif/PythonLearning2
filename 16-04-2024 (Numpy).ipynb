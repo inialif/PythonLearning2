{
 "cells": [
  {
   "cell_type": "markdown",
   "id": "613459c5-22db-407c-b759-9689c77f6ea4",
   "metadata": {},
   "source": [
    "## NumPy\n",
    "---"
   ]
  },
  {
   "cell_type": "code",
   "execution_count": 1,
   "id": "cbdd1665-e3cf-4a76-ae30-ab049e288939",
   "metadata": {},
   "outputs": [],
   "source": [
    "# Import NumPy\n",
    "\n",
    "import numpy as np"
   ]
  },
  {
   "cell_type": "code",
   "execution_count": 2,
   "id": "cd4ebd0a-3436-4314-83ba-d24170416931",
   "metadata": {},
   "outputs": [
    {
     "name": "stdout",
     "output_type": "stream",
     "text": [
      "1.26.4\n"
     ]
    }
   ],
   "source": [
    "# Checking NumPy Version\n",
    "\n",
    "print(np.__version__)"
   ]
  },
  {
   "cell_type": "code",
   "execution_count": 3,
   "id": "95b978da-9615-4f44-a3fa-8dae0ce6b19d",
   "metadata": {},
   "outputs": [
    {
     "name": "stdout",
     "output_type": "stream",
     "text": [
      "[1 2 3 4 5]\n"
     ]
    }
   ],
   "source": [
    "# Creating a NumPy array\n",
    "\n",
    "arr = np.array([1, 2, 3, 4, 5])\n",
    "print(arr)"
   ]
  },
  {
   "cell_type": "code",
   "execution_count": 4,
   "id": "9f32f278-3e1c-4cab-ad63-f40e1c1b738b",
   "metadata": {},
   "outputs": [
    {
     "name": "stdout",
     "output_type": "stream",
     "text": [
      "[1 2 3 4 5]\n",
      "<class 'numpy.ndarray'>\n"
     ]
    }
   ],
   "source": [
    "import numpy as np          #importnya gaharus ditulis terus, cukup sekali bisa\n",
    "arr = np.array([1, 2, 3, 4, 5])\n",
    "print(arr)\n",
    "print(type(arr))"
   ]
  },
  {
   "cell_type": "code",
   "execution_count": 5,
   "id": "ca599ec0-bc8e-41de-952c-cf7f9d414616",
   "metadata": {},
   "outputs": [
    {
     "name": "stdout",
     "output_type": "stream",
     "text": [
      "[1 2 3 4 5]\n",
      "<class 'numpy.ndarray'>\n"
     ]
    }
   ],
   "source": [
    "# Use a tuple to create a NumPy array\n",
    "\n",
    "import numpy as np\n",
    "arr = np.array((1, 2, 3, 4, 5))\n",
    "print(arr)\n",
    "print(type(arr))"
   ]
  },
  {
   "cell_type": "markdown",
   "id": "152df7ab-3a91-4d59-9a1f-82a76ab87acb",
   "metadata": {},
   "source": [
    "##### Task - Basic NumPy\n",
    "---"
   ]
  },
  {
   "cell_type": "code",
   "execution_count": 6,
   "id": "b8e1081a-30a9-42f3-b098-3759d4ad09af",
   "metadata": {},
   "outputs": [
    {
     "data": {
      "text/plain": [
       "'1.26.4'"
      ]
     },
     "execution_count": 6,
     "metadata": {},
     "output_type": "execute_result"
    }
   ],
   "source": [
    "np.version.version"
   ]
  },
  {
   "cell_type": "code",
   "execution_count": 7,
   "id": "86c6580c-5bbb-43b2-8887-5eb7cbd9f367",
   "metadata": {},
   "outputs": [
    {
     "name": "stdout",
     "output_type": "stream",
     "text": [
      "Array dari list:\n",
      "[1 2 3 4 5]\n",
      "<class 'numpy.ndarray'>\n"
     ]
    }
   ],
   "source": [
    "#List\n",
    "\n",
    "list_data = [1, 2, 3, 4, 5]\n",
    "array_from_list = np.array(list_data)\n",
    "print(\"Array dari list:\")\n",
    "print(array_from_list)\n",
    "print(type(array_from_list))"
   ]
  },
  {
   "cell_type": "code",
   "execution_count": 8,
   "id": "fd3e7016-2bf2-4519-966e-96f62ec3a982",
   "metadata": {},
   "outputs": [
    {
     "name": "stdout",
     "output_type": "stream",
     "text": [
      "Array dari tuple :\n",
      "[5 6 7 8 9]\n",
      "<class 'numpy.ndarray'>\n"
     ]
    }
   ],
   "source": [
    "# Tuple\n",
    "\n",
    "tuple_data =(5, 6, 7, 8, 9)\n",
    "array_from_tuple = np.array(tuple_data)\n",
    "print(\"Array dari tuple :\")\n",
    "print(array_from_tuple)\n",
    "print(type(array_from_tuple))"
   ]
  },
  {
   "cell_type": "markdown",
   "id": "ef49bf08-8c24-4ab9-a019-72fd578bcaed",
   "metadata": {},
   "source": [
    "#### Dimension in Arrays\n",
    "---\n",
    "A dimension in arrays is one level of array depth (nested arrays)"
   ]
  },
  {
   "cell_type": "code",
   "execution_count": 9,
   "id": "c25a2a3b-c455-4b23-9769-f218f58de9ba",
   "metadata": {},
   "outputs": [],
   "source": [
    "# e-D Arrays\n",
    "\n",
    "arr = np.array(42)"
   ]
  },
  {
   "cell_type": "code",
   "execution_count": 10,
   "id": "390fd48a-c19a-4819-81b0-618a6ce35b92",
   "metadata": {},
   "outputs": [
    {
     "name": "stdout",
     "output_type": "stream",
     "text": [
      "[1 2 3 4 5]\n"
     ]
    }
   ],
   "source": [
    "# Create a 1-D array\n",
    "\n",
    "arr = np.array([1, 2, 3, 4, 5])\n",
    "print(arr)"
   ]
  },
  {
   "cell_type": "code",
   "execution_count": 11,
   "id": "3d72a3b7-a640-4890-9da3-c8ffe80d9b23",
   "metadata": {},
   "outputs": [
    {
     "name": "stdout",
     "output_type": "stream",
     "text": [
      "[[1 2 3]\n",
      " [4 5 6]\n",
      " [7 8 9]]\n"
     ]
    }
   ],
   "source": [
    "# Create a 2-D array containing two arrays\n",
    "\n",
    "arr = np.array([[1, 2, 3], [4, 5, 6], [7, 8, 9]])\n",
    "print(arr)"
   ]
  },
  {
   "cell_type": "code",
   "execution_count": 13,
   "id": "1a0349c6-c0c1-481b-b0f3-74a24d658710",
   "metadata": {},
   "outputs": [
    {
     "name": "stdout",
     "output_type": "stream",
     "text": [
      "[[[1 2 3]\n",
      "  [4 5 6]]\n",
      "\n",
      " [[1 2 3]\n",
      "  [4 5 6]]]\n"
     ]
    }
   ],
   "source": [
    "# Create a 3-D array with two 2-D arrays, both containing two arrays\n",
    "\n",
    "arr = np.array([[[1, 2, 3], [4, 5, 6]],[[1, 2, 3],[4, 5, 6]]])\n",
    "print(arr)"
   ]
  },
  {
   "cell_type": "code",
   "execution_count": 15,
   "id": "fbdc0665-9577-46ab-8099-5aa90f986372",
   "metadata": {},
   "outputs": [
    {
     "name": "stdout",
     "output_type": "stream",
     "text": [
      "0\n",
      "1\n",
      "2\n",
      "3\n"
     ]
    }
   ],
   "source": [
    "# Check how many dimension the arrays have\n",
    "\n",
    "import numpy as np\n",
    "\n",
    "a = np.array(42)\n",
    "b = np.array([1, 2, 3, 4, 5])\n",
    "c = np.array([[1, 2, 3], [4, 5, 6]])\n",
    "d = np.array([[[1, 2, 3], [4, 5, 6]],[[1, 2, 3],[4, 5, 6]]])\n",
    "\n",
    "print(a.ndim)\n",
    "print(b.ndim)\n",
    "print(c.ndim)\n",
    "print(d.ndim)"
   ]
  },
  {
   "cell_type": "markdown",
   "id": "d3425e31-658f-4cd8-9435-a40b3da31e9f",
   "metadata": {},
   "source": [
    "##### Task - Dimension\n",
    "---"
   ]
  },
  {
   "cell_type": "code",
   "execution_count": 16,
   "id": "98f69ee2-e2fe-4b65-8c79-7b841d07216a",
   "metadata": {},
   "outputs": [
    {
     "name": "stdout",
     "output_type": "stream",
     "text": [
      "[1 2 3 4 5]\n",
      "1\n"
     ]
    }
   ],
   "source": [
    "# 1Dimension\n",
    "\n",
    "arr_1 = np.array([1, 2, 3, 4, 5])\n",
    "print(arr_1)\n",
    "print(arr_1.ndim)"
   ]
  },
  {
   "cell_type": "code",
   "execution_count": 17,
   "id": "e49bccb6-8943-4252-af44-a7d3d880d261",
   "metadata": {},
   "outputs": [
    {
     "name": "stdout",
     "output_type": "stream",
     "text": [
      "[[1 2 3]\n",
      " [1 2 3]\n",
      " [1 2 3]]\n",
      "2\n"
     ]
    }
   ],
   "source": [
    "# 2Dimension\n",
    "\n",
    "arr_2 = np.array([[1, 2, 3], [1, 2, 3], [1, 2, 3]])\n",
    "print(arr_2)\n",
    "print(arr_2.ndim)"
   ]
  },
  {
   "cell_type": "code",
   "execution_count": 18,
   "id": "3989c918-e8e5-4599-b8bd-11faab64cba7",
   "metadata": {},
   "outputs": [
    {
     "name": "stdout",
     "output_type": "stream",
     "text": [
      "[[[1 2 3]\n",
      "  [1 2 3]]\n",
      "\n",
      " [[1 2 3]\n",
      "  [1 2 3]]\n",
      "\n",
      " [[1 2 3]\n",
      "  [1 2 3]]]\n",
      "3\n"
     ]
    }
   ],
   "source": [
    "# 3Dimension\n",
    "\n",
    "arr_3 = np.array([[[1, 2, 3], [1, 2, 3]], [[1, 2, 3], [1, 2, 3]], [[1, 2, 3], [1, 2, 3]]])\n",
    "print(arr_3)\n",
    "print(arr_3.ndim)"
   ]
  },
  {
   "cell_type": "code",
   "execution_count": 19,
   "id": "e108b615-3083-42f1-90a5-47c81eba63a8",
   "metadata": {},
   "outputs": [
    {
     "name": "stdout",
     "output_type": "stream",
     "text": [
      "[[[[[1 2 3 4 5]]]]]\n",
      "number of dimension: 5\n",
      "[[[[1 2 3 4 5]]]]\n"
     ]
    }
   ],
   "source": [
    "# Create an array with 5 dimension and verify that it has 5 dimensions\n",
    "\n",
    "import numpy as np\n",
    "arr_1 = np.array([1, 2, 3, 4, 5], ndmin=5)\n",
    "print(arr_1)\n",
    "print('number of dimension:', arr_1.ndim)\n",
    "print(arr_1[0])"
   ]
  },
  {
   "cell_type": "code",
   "execution_count": 20,
   "id": "436ed3f4-156a-4148-b3e6-880bbb4b286c",
   "metadata": {},
   "outputs": [
    {
     "name": "stdout",
     "output_type": "stream",
     "text": [
      "1\n"
     ]
    }
   ],
   "source": [
    "# Get the first element from the following array\n",
    "\n",
    "arr = np.array([1, 2, 3, 4, 5])\n",
    "print(arr[0])"
   ]
  },
  {
   "cell_type": "code",
   "execution_count": 21,
   "id": "06df2667-d50e-452c-9f5e-3dcdaad40712",
   "metadata": {},
   "outputs": [
    {
     "name": "stdout",
     "output_type": "stream",
     "text": [
      "2\n"
     ]
    }
   ],
   "source": [
    "# Get the second element from the following array\n",
    "\n",
    "arr = np.array([1, 2, 3, 4, 5])\n",
    "print(arr[1])"
   ]
  },
  {
   "cell_type": "code",
   "execution_count": 22,
   "id": "7511ceac-ad57-4ba6-af04-7e2ba608a42a",
   "metadata": {},
   "outputs": [
    {
     "name": "stdout",
     "output_type": "stream",
     "text": [
      "7\n"
     ]
    }
   ],
   "source": [
    "# Get the third and fourth element from the following array and add them\n",
    "\n",
    "arr = np.array([1, 2, 3, 4, 5])\n",
    "print(arr[2] + arr[3])"
   ]
  },
  {
   "cell_type": "markdown",
   "id": "5cc5dd27-b3e6-43fa-a987-fcd48a144605",
   "metadata": {},
   "source": [
    "##### Task\n",
    "---"
   ]
  },
  {
   "cell_type": "code",
   "execution_count": 27,
   "id": "655ade05-e974-4a01-ad31-196a257dacac",
   "metadata": {},
   "outputs": [
    {
     "name": "stdout",
     "output_type": "stream",
     "text": [
      "2nd element on 1st row:  2\n"
     ]
    }
   ],
   "source": [
    "# access the element on the first row, second column\n",
    "\n",
    "arr = np.array([[1, 2, 3, 4, 5], [6, 7, 8, 9, 10]])\n",
    "print(\"2nd element on 1st row: \", arr[0,1])    #{row, elemen}"
   ]
  },
  {
   "cell_type": "code",
   "execution_count": 28,
   "id": "54e8df25-a23e-4756-97b4-bf719c0feaa2",
   "metadata": {},
   "outputs": [
    {
     "name": "stdout",
     "output_type": "stream",
     "text": [
      "5th element on 2nd row:  10\n"
     ]
    }
   ],
   "source": [
    "# access the element on the 2nd row, 5th column\n",
    "\n",
    "arr = np.array([[1, 2, 3, 4, 5], [6, 7, 8, 9, 10]])\n",
    "print(\"5th element on 2nd row: \", arr[1,4])"
   ]
  },
  {
   "cell_type": "code",
   "execution_count": 29,
   "id": "94cf0ec9-5505-4597-98aa-f8a49c97705b",
   "metadata": {},
   "outputs": [
    {
     "name": "stdout",
     "output_type": "stream",
     "text": [
      "9\n"
     ]
    }
   ],
   "source": [
    "#access the third element of the second array of the first array\n",
    "\n",
    "arr = np.array([[[1, 2, 3], [4, 5, 6]],[[7, 8, 9],[10, 11, 12]]])\n",
    "print(arr[1, 0, 2])    #[dim, row, elemen]"
   ]
  },
  {
   "cell_type": "markdown",
   "id": "82647d56-c3d7-49a8-8521-788d92ef54da",
   "metadata": {},
   "source": [
    "##### Task\n",
    "---"
   ]
  },
  {
   "cell_type": "code",
   "execution_count": null,
   "id": "0f4fa52b-1829-4fdb-a6ff-4e685f58c9aa",
   "metadata": {},
   "outputs": [],
   "source": []
  }
 ],
 "metadata": {
  "kernelspec": {
   "display_name": "Python 3 (ipykernel)",
   "language": "python",
   "name": "python3"
  },
  "language_info": {
   "codemirror_mode": {
    "name": "ipython",
    "version": 3
   },
   "file_extension": ".py",
   "mimetype": "text/x-python",
   "name": "python",
   "nbconvert_exporter": "python",
   "pygments_lexer": "ipython3",
   "version": "3.11.7"
  }
 },
 "nbformat": 4,
 "nbformat_minor": 5
}
